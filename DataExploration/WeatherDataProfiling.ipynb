{
 "cells": [
  {
   "cell_type": "code",
   "execution_count": 1,
   "metadata": {
    "editable": true
   },
   "outputs": [],
   "source": [
    "#Import library\n",
    "import requests as re\n",
    "import pandas as pd\n",
    "import requests\n",
    "import numpy as np\n",
    "import pandas as pd\n",
    "import json\n",
    "from datetime import datetime\n",
    "import matplotlib.pyplot as plt\n",
    "import time\n",
    "import os\n",
    "from pathlib import Path"
   ]
  },
  {
   "cell_type": "markdown",
   "metadata": {
    "editable": true
   },
   "source": [
    "#### API exploration\n",
    "The API is limit to 1000 output in each return. Hence we need to use offset attribute in the API query to get the next 1000 rows of data"
   ]
  },
  {
   "cell_type": "code",
   "execution_count": 6,
   "metadata": {
    "editable": true
   },
   "outputs": [
    {
     "data": {
      "text/plain": [
       "[{'mindate': '1983-01-01',\n",
       "  'maxdate': '2021-07-29',\n",
       "  'name': 'Abu Dhabi, AE',\n",
       "  'datacoverage': 0.9977,\n",
       "  'id': 'CITY:AE000001'},\n",
       " {'mindate': '1944-03-01',\n",
       "  'maxdate': '2021-07-29',\n",
       "  'name': 'Ajman, AE',\n",
       "  'datacoverage': 0.9991,\n",
       "  'id': 'CITY:AE000002'},\n",
       " {'mindate': '1944-03-01',\n",
       "  'maxdate': '2021-07-29',\n",
       "  'name': 'Dubai, AE',\n",
       "  'datacoverage': 0.9991,\n",
       "  'id': 'CITY:AE000003'},\n",
       " {'mindate': '1944-03-01',\n",
       "  'maxdate': '2021-07-29',\n",
       "  'name': 'Sharjah, AE',\n",
       "  'datacoverage': 0.9991,\n",
       "  'id': 'CITY:AE000006'},\n",
       " {'mindate': '1966-03-02',\n",
       "  'maxdate': '2021-07-29',\n",
       "  'name': 'Kabul, AF',\n",
       "  'datacoverage': 0.9969,\n",
       "  'id': 'CITY:AF000007'}]"
      ]
     },
     "execution_count": 6,
     "metadata": {},
     "output_type": "execute_result"
    }
   ],
   "source": [
    "## Example of the API query\n",
    "Token = '<your_noaa_token>'\n",
    "offset=0\n",
    "req_url = 'https://www.ncdc.noaa.gov/cdo-web/api/v2/locations?locationcategoryid=CITY&limit=1000&offset={}'.format(offset)\n",
    "locations = re.get(req_url, headers={'token':Token})\n",
    "d = json.loads(locations.text)\n",
    "#Show top 5 results\n",
    "d['results'][0:5]"
   ]
  },
  {
   "cell_type": "code",
   "execution_count": 5,
   "metadata": {
    "editable": true
   },
   "outputs": [
    {
     "data": {
      "text/plain": [
       "<Response [404]>"
      ]
     },
     "execution_count": 5,
     "metadata": {},
     "output_type": "execute_result"
    }
   ],
   "source": [
    "locations"
   ]
  },
  {
   "cell_type": "markdown",
   "metadata": {
    "editable": true
   },
   "source": [
    "|date|location_id|city_name|TAVG|station_id|long|lat"
   ]
  },
  {
   "cell_type": "markdown",
   "metadata": {
    "editable": true
   },
   "source": [
    "#### method to be developed and test\n",
    "1. GetAllCityCode - make an API query to get the list of cities in "
   ]
  },
  {
   "cell_type": "code",
   "execution_count": 24,
   "metadata": {
    "editable": true
   },
   "outputs": [],
   "source": [
    "def GetAllCityCode(Token):\n",
    "    FullResult=[]\n",
    "    for i in range(100):\n",
    "        offset=i*1000\n",
    "        req_url = 'https://www.ncdc.noaa.gov/cdo-web/api/v2/locations?locationcategoryid=CITY&limit=1000&offset={}'.format(offset)\n",
    "        locations = re.get(req_url, headers={'token':Token})\n",
    "        d = json.loads(locations.text)\n",
    "        print(d)\n",
    "        if len(d)==0:\n",
    "            print(\"empty string exit\",i)\n",
    "            break\n",
    "        FullResult.extend(d['results'])\n",
    "    #print(FullResult)\n",
    "    return pd.DataFrame(FullResult).drop_duplicates()\n",
    "        "
   ]
  },
  {
   "cell_type": "code",
   "execution_count": 8,
   "metadata": {
    "editable": true
   },
   "outputs": [],
   "source": [
    "def GetLongLat(inToken,station_id):\n",
    "    \"\"\"\n",
    "    arg: inToken,stationid\n",
    "    return long lat \n",
    "    \"\"\"\n",
    "    #print(station_id)\n",
    "    req_url = 'https://www.ncdc.noaa.gov/cdo-web/api/v2/stations/'+station_id\n",
    "    longlat = re.get(req_url, headers={'token':inToken})\n",
    "    if len(longlat.text)==2:  #2 character {}\n",
    "        return 0,0\n",
    "    json_longlat=json.loads(longlat.text)\n",
    "    return json_longlat['longitude'],json_longlat['latitude']"
   ]
  },
  {
   "cell_type": "code",
   "execution_count": 9,
   "metadata": {
    "editable": true
   },
   "outputs": [],
   "source": [
    "def GetPrecipitation(inToken,station_id,start_date,end_date):\n",
    "    \"\"\"\n",
    "    arg: inToken,stationid\n",
    "    return df with the data \n",
    "    \"\"\"\n",
    "    req_url = 'https://www.ncdc.noaa.gov/cdo-web/api/v2/data?datasetid=GHCND&datatypeid=PRCP&limit=1000' \\\n",
    "        '&startdate='+start_date+'&enddate='+end_date+'&stationid='+station_id\n",
    "    #print(req_url)\n",
    "    prcp = re.get(req_url, headers={'token':inToken})\n",
    "    if len(prcp.text)==2:  #2 character {}\n",
    "        return pd.DataFrame(columns = ['attributes','datatype','date','station','prcp'])\n",
    "    #print(prcp.text)\n",
    "    json_prcp = json.loads(prcp.text)\n",
    "    df_prcp = pd.DataFrame(json_prcp['results'])\n",
    "    df_prcp=df_prcp.rename(columns={\"value\":\"prcp\"})\n",
    "    return df_prcp"
   ]
  },
  {
   "cell_type": "code",
   "execution_count": 14,
   "metadata": {
    "editable": true
   },
   "outputs": [],
   "source": [
    "def GetTemperature(inToken,location_id,city_name,start_date,end_date):\n",
    "    req_url = 'https://www.ncdc.noaa.gov/cdo-web/api/v2/data?datasetid=GHCND&datatypeid=TAVG&limit=1000&locationid='+location_id+ \\\n",
    "            '&startdate='+start_date+'&enddate='+end_date\n",
    "    weather = re.get(req_url, headers={'token':inToken})\n",
    "    time.sleep(0.2) #avoid next API request got cancelled due to hit the 5 req per sec quota\n",
    "    #print(len(weather.text))\n",
    "    if len(weather.text)==2:  #2 character {}\n",
    "        print(len(weather.text))\n",
    "        return None\n",
    "    json_weather = json.loads(weather.text)\n",
    "    df_weather = pd.DataFrame(json_weather['results'])\n",
    "    df_weather['location_id']=location_id\n",
    "    df_weather['city_name']=city_name\n",
    "    df_weather['average_temp']=df_weather['value'] / 10\n",
    "    station_unique = df_weather['station'].unique() #apply to each row is better as big city has multiple read\n",
    "    print(location_id,city_name,station_unique)\n",
    "    #get long lat\n",
    "    long_lats = [GetLongLat(inToken,i) for i in station_unique]\n",
    "    df_stn_long_lat=pd.DataFrame({'station_id':station_unique,'long_lat':long_lats})\n",
    "    df_stn_long_lat[['long', 'lat']] = pd.DataFrame(df_stn_long_lat['long_lat'].tolist(), index=df_stn_long_lat.index)\n",
    "    df_stn_long_lat=df_stn_long_lat.drop(['long_lat'],axis=1)\n",
    "    df_weather = df_weather.merge(df_stn_long_lat,  how='left', left_on='station', right_on='station_id')\n",
    "    #precipitation\n",
    "    list_prcp = [GetPrecipitation(inToken,i,start_date,end_date) for i in station_unique]\n",
    "    #print(list_prcp)\n",
    "    df_prcp = pd.concat(list_prcp)\n",
    "    df_weather = df_weather.merge(df_prcp,  how='left', left_on=['station','date'], right_on = ['station','date'])\n",
    "    #print(df_prcp.head())\n",
    "    #subset the data\n",
    "    df_weather=df_weather[['date','location_id','city_name','average_temp','station','long','lat','prcp']]\n",
    "    return df_weather"
   ]
  },
  {
   "cell_type": "code",
   "execution_count": 25,
   "metadata": {
    "editable": true
   },
   "outputs": [
    {
     "name": "stdout",
     "output_type": "stream",
     "text": [
      "{'status': '429', 'message': 'This token has reached its temporary request limit of 10000 per day.'}\n"
     ]
    },
    {
     "ename": "KeyError",
     "evalue": "'results'",
     "output_type": "error",
     "traceback": [
      "\u001b[0;31m---------------------------------------------------------------------------\u001b[0m",
      "\u001b[0;31mKeyError\u001b[0m                                  Traceback (most recent call last)",
      "\u001b[0;32m<ipython-input-25-a5cc9be8e7d8>\u001b[0m in \u001b[0;36m<module>\u001b[0;34m()\u001b[0m\n\u001b[1;32m      1\u001b[0m \u001b[0mToken\u001b[0m \u001b[0;34m=\u001b[0m \u001b[0;34m'pMnUqnCVOhzBBBgneXwexkNCSaxdafuL'\u001b[0m\u001b[0;34m\u001b[0m\u001b[0m\n\u001b[0;32m----> 2\u001b[0;31m \u001b[0mdf\u001b[0m \u001b[0;34m=\u001b[0m \u001b[0mGetAllCityCode\u001b[0m\u001b[0;34m(\u001b[0m\u001b[0mToken\u001b[0m\u001b[0;34m)\u001b[0m\u001b[0;34m\u001b[0m\u001b[0m\n\u001b[0m\u001b[1;32m      3\u001b[0m \u001b[0mdf\u001b[0m\u001b[0;34m=\u001b[0m\u001b[0mdf\u001b[0m\u001b[0;34m[\u001b[0m\u001b[0mdf\u001b[0m\u001b[0;34m[\u001b[0m\u001b[0;34m'name'\u001b[0m\u001b[0;34m]\u001b[0m\u001b[0;34m.\u001b[0m\u001b[0mstr\u001b[0m\u001b[0;34m.\u001b[0m\u001b[0mcontains\u001b[0m\u001b[0;34m(\u001b[0m\u001b[0;34m\"US\"\u001b[0m\u001b[0;34m)\u001b[0m\u001b[0;34m]\u001b[0m\u001b[0;34m[\u001b[0m\u001b[0;36m0\u001b[0m\u001b[0;34m:\u001b[0m\u001b[0;36m5\u001b[0m\u001b[0;34m]\u001b[0m\u001b[0;34m\u001b[0m\u001b[0m\n",
      "\u001b[0;32m<ipython-input-24-e8b2f0bc040b>\u001b[0m in \u001b[0;36mGetAllCityCode\u001b[0;34m(Token)\u001b[0m\n\u001b[1;32m     10\u001b[0m             \u001b[0mprint\u001b[0m\u001b[0;34m(\u001b[0m\u001b[0;34m\"empty string exit\"\u001b[0m\u001b[0;34m,\u001b[0m\u001b[0mi\u001b[0m\u001b[0;34m)\u001b[0m\u001b[0;34m\u001b[0m\u001b[0m\n\u001b[1;32m     11\u001b[0m             \u001b[0;32mbreak\u001b[0m\u001b[0;34m\u001b[0m\u001b[0m\n\u001b[0;32m---> 12\u001b[0;31m         \u001b[0mFullResult\u001b[0m\u001b[0;34m.\u001b[0m\u001b[0mextend\u001b[0m\u001b[0;34m(\u001b[0m\u001b[0md\u001b[0m\u001b[0;34m[\u001b[0m\u001b[0;34m'results'\u001b[0m\u001b[0;34m]\u001b[0m\u001b[0;34m)\u001b[0m\u001b[0;34m\u001b[0m\u001b[0m\n\u001b[0m\u001b[1;32m     13\u001b[0m     \u001b[0;31m#print(FullResult)\u001b[0m\u001b[0;34m\u001b[0m\u001b[0;34m\u001b[0m\u001b[0m\n\u001b[1;32m     14\u001b[0m     \u001b[0;32mreturn\u001b[0m \u001b[0mpd\u001b[0m\u001b[0;34m.\u001b[0m\u001b[0mDataFrame\u001b[0m\u001b[0;34m(\u001b[0m\u001b[0mFullResult\u001b[0m\u001b[0;34m)\u001b[0m\u001b[0;34m.\u001b[0m\u001b[0mdrop_duplicates\u001b[0m\u001b[0;34m(\u001b[0m\u001b[0;34m)\u001b[0m\u001b[0;34m\u001b[0m\u001b[0m\n",
      "\u001b[0;31mKeyError\u001b[0m: 'results'"
     ]
    }
   ],
   "source": [
    "Token = 'pMnUqnCVOhzBBBgneXwexkNCSaxdafuL'\n",
    "df = GetAllCityCode(Token)\n",
    "df=df[df['name'].str.contains(\"US\")][0:5]"
   ]
  },
  {
   "cell_type": "code",
   "execution_count": 12,
   "metadata": {
    "editable": true
   },
   "outputs": [
    {
     "data": {
      "text/html": [
       "<div>\n",
       "<style scoped>\n",
       "    .dataframe tbody tr th:only-of-type {\n",
       "        vertical-align: middle;\n",
       "    }\n",
       "\n",
       "    .dataframe tbody tr th {\n",
       "        vertical-align: top;\n",
       "    }\n",
       "\n",
       "    .dataframe thead th {\n",
       "        text-align: right;\n",
       "    }\n",
       "</style>\n",
       "<table border=\"1\" class=\"dataframe\">\n",
       "  <thead>\n",
       "    <tr style=\"text-align: right;\">\n",
       "      <th></th>\n",
       "      <th>datacoverage</th>\n",
       "      <th>id</th>\n",
       "      <th>maxdate</th>\n",
       "      <th>mindate</th>\n",
       "      <th>name</th>\n",
       "    </tr>\n",
       "  </thead>\n",
       "  <tbody>\n",
       "    <tr>\n",
       "      <th>1106</th>\n",
       "      <td>1.0</td>\n",
       "      <td>CITY:US040011</td>\n",
       "      <td>2021-08-01</td>\n",
       "      <td>1893-01-01</td>\n",
       "      <td>Phoenix, AZ US</td>\n",
       "    </tr>\n",
       "    <tr>\n",
       "      <th>1650</th>\n",
       "      <td>1.0</td>\n",
       "      <td>CITY:US390019</td>\n",
       "      <td>2021-08-01</td>\n",
       "      <td>1893-06-01</td>\n",
       "      <td>New Philadelphia, OH US</td>\n",
       "    </tr>\n",
       "    <tr>\n",
       "      <th>1712</th>\n",
       "      <td>1.0</td>\n",
       "      <td>CITY:US420015</td>\n",
       "      <td>2021-08-01</td>\n",
       "      <td>1876-12-24</td>\n",
       "      <td>Philadelphia, PA US</td>\n",
       "    </tr>\n",
       "  </tbody>\n",
       "</table>\n",
       "</div>"
      ],
      "text/plain": [
       "      datacoverage             id     maxdate     mindate  \\\n",
       "1106           1.0  CITY:US040011  2021-08-01  1893-01-01   \n",
       "1650           1.0  CITY:US390019  2021-08-01  1893-06-01   \n",
       "1712           1.0  CITY:US420015  2021-08-01  1876-12-24   \n",
       "\n",
       "                         name  \n",
       "1106           Phoenix, AZ US  \n",
       "1650  New Philadelphia, OH US  \n",
       "1712      Philadelphia, PA US  "
      ]
     },
     "execution_count": 12,
     "metadata": {},
     "output_type": "execute_result"
    }
   ],
   "source": [
    "#Exploring finding the US city that contains \"Ph\"\n",
    "#df[df['name'].str.contains(\"US\") &df['name'].str.contains(\"Ph\")]"
   ]
  },
  {
   "cell_type": "code",
   "execution_count": 16,
   "metadata": {
    "editable": true
   },
   "outputs": [
    {
     "name": "stdout",
     "output_type": "stream",
     "text": [
      "CITY:US000001 Washington D.C., US ['GHCND:USW00013743' 'GHCND:USW00093721' 'GHCND:USW00093738']\n",
      "2\n",
      "CITY:US010002 Anniston, AL US ['GHCND:USR0000ASHK']\n",
      "2\n",
      "CITY:US010004 Birmingham, AL US ['GHCND:USW00013876']\n",
      "6.668336629867554\n"
     ]
    }
   ],
   "source": [
    "#test the method in getting the data\n",
    "start_time=time.time()\n",
    "full_df = pd.concat([GetTemperature(Token,x, y,'2021-06-01','2021-06-30') for x, y in zip(df['id'], df['name'])])\n",
    "print(time.time()-start_time)"
   ]
  },
  {
   "cell_type": "code",
   "execution_count": 22,
   "metadata": {
    "editable": true
   },
   "outputs": [
    {
     "data": {
      "text/html": [
       "<div>\n",
       "<style scoped>\n",
       "    .dataframe tbody tr th:only-of-type {\n",
       "        vertical-align: middle;\n",
       "    }\n",
       "\n",
       "    .dataframe tbody tr th {\n",
       "        vertical-align: top;\n",
       "    }\n",
       "\n",
       "    .dataframe thead th {\n",
       "        text-align: right;\n",
       "    }\n",
       "</style>\n",
       "<table border=\"1\" class=\"dataframe\">\n",
       "  <thead>\n",
       "    <tr style=\"text-align: right;\">\n",
       "      <th></th>\n",
       "      <th>attributes</th>\n",
       "      <th>datatype</th>\n",
       "      <th>date</th>\n",
       "      <th>station</th>\n",
       "      <th>prcp</th>\n",
       "    </tr>\n",
       "  </thead>\n",
       "  <tbody>\n",
       "    <tr>\n",
       "      <th>0</th>\n",
       "      <td>,,D,2400</td>\n",
       "      <td>PRCP</td>\n",
       "      <td>2021-07-23T00:00:00</td>\n",
       "      <td>GHCND:USW00093738</td>\n",
       "      <td>0</td>\n",
       "    </tr>\n",
       "  </tbody>\n",
       "</table>\n",
       "</div>"
      ],
      "text/plain": [
       "  attributes datatype                 date            station  prcp\n",
       "0   ,,D,2400     PRCP  2021-07-23T00:00:00  GHCND:USW00093738     0"
      ]
     },
     "execution_count": 22,
     "metadata": {},
     "output_type": "execute_result"
    }
   ],
   "source": [
    "GetPrecipitation(Token,'GHCND:USW00093738','2021-07-23','2021-07-23')"
   ]
  },
  {
   "cell_type": "code",
   "execution_count": 13,
   "metadata": {
    "editable": true
   },
   "outputs": [
    {
     "data": {
      "text/html": [
       "<div>\n",
       "<style scoped>\n",
       "    .dataframe tbody tr th:only-of-type {\n",
       "        vertical-align: middle;\n",
       "    }\n",
       "\n",
       "    .dataframe tbody tr th {\n",
       "        vertical-align: top;\n",
       "    }\n",
       "\n",
       "    .dataframe thead th {\n",
       "        text-align: right;\n",
       "    }\n",
       "</style>\n",
       "<table border=\"1\" class=\"dataframe\">\n",
       "  <thead>\n",
       "    <tr style=\"text-align: right;\">\n",
       "      <th></th>\n",
       "      <th>date</th>\n",
       "      <th>location_id</th>\n",
       "      <th>city_name</th>\n",
       "      <th>average_temp</th>\n",
       "      <th>station</th>\n",
       "      <th>long</th>\n",
       "      <th>lat</th>\n",
       "      <th>prcp</th>\n",
       "    </tr>\n",
       "  </thead>\n",
       "  <tbody>\n",
       "    <tr>\n",
       "      <th>0</th>\n",
       "      <td>2021-06-01T00:00:00</td>\n",
       "      <td>CITY:US000001</td>\n",
       "      <td>Washington D.C., US</td>\n",
       "      <td>19.8</td>\n",
       "      <td>GHCND:USW00013743</td>\n",
       "      <td>-77.03454</td>\n",
       "      <td>38.8472</td>\n",
       "      <td>0</td>\n",
       "    </tr>\n",
       "    <tr>\n",
       "      <th>1</th>\n",
       "      <td>2021-06-01T00:00:00</td>\n",
       "      <td>CITY:US000001</td>\n",
       "      <td>Washington D.C., US</td>\n",
       "      <td>18.8</td>\n",
       "      <td>GHCND:USW00093721</td>\n",
       "      <td>-76.68400</td>\n",
       "      <td>39.1733</td>\n",
       "      <td>0</td>\n",
       "    </tr>\n",
       "    <tr>\n",
       "      <th>2</th>\n",
       "      <td>2021-06-01T00:00:00</td>\n",
       "      <td>CITY:US000001</td>\n",
       "      <td>Washington D.C., US</td>\n",
       "      <td>18.3</td>\n",
       "      <td>GHCND:USW00093738</td>\n",
       "      <td>-77.44730</td>\n",
       "      <td>38.9349</td>\n",
       "      <td>0</td>\n",
       "    </tr>\n",
       "    <tr>\n",
       "      <th>3</th>\n",
       "      <td>2021-06-02T00:00:00</td>\n",
       "      <td>CITY:US000001</td>\n",
       "      <td>Washington D.C., US</td>\n",
       "      <td>21.9</td>\n",
       "      <td>GHCND:USW00013743</td>\n",
       "      <td>-77.03454</td>\n",
       "      <td>38.8472</td>\n",
       "      <td>0</td>\n",
       "    </tr>\n",
       "    <tr>\n",
       "      <th>4</th>\n",
       "      <td>2021-06-02T00:00:00</td>\n",
       "      <td>CITY:US000001</td>\n",
       "      <td>Washington D.C., US</td>\n",
       "      <td>21.2</td>\n",
       "      <td>GHCND:USW00093721</td>\n",
       "      <td>-76.68400</td>\n",
       "      <td>39.1733</td>\n",
       "      <td>0</td>\n",
       "    </tr>\n",
       "  </tbody>\n",
       "</table>\n",
       "</div>"
      ],
      "text/plain": [
       "                  date    location_id            city_name  average_temp  \\\n",
       "0  2021-06-01T00:00:00  CITY:US000001  Washington D.C., US          19.8   \n",
       "1  2021-06-01T00:00:00  CITY:US000001  Washington D.C., US          18.8   \n",
       "2  2021-06-01T00:00:00  CITY:US000001  Washington D.C., US          18.3   \n",
       "3  2021-06-02T00:00:00  CITY:US000001  Washington D.C., US          21.9   \n",
       "4  2021-06-02T00:00:00  CITY:US000001  Washington D.C., US          21.2   \n",
       "\n",
       "             station      long      lat prcp  \n",
       "0  GHCND:USW00013743 -77.03454  38.8472    0  \n",
       "1  GHCND:USW00093721 -76.68400  39.1733    0  \n",
       "2  GHCND:USW00093738 -77.44730  38.9349    0  \n",
       "3  GHCND:USW00013743 -77.03454  38.8472    0  \n",
       "4  GHCND:USW00093721 -76.68400  39.1733    0  "
      ]
     },
     "execution_count": 13,
     "metadata": {},
     "output_type": "execute_result"
    }
   ],
   "source": [
    "full_df.head()"
   ]
  },
  {
   "cell_type": "code",
   "execution_count": 8,
   "metadata": {
    "editable": true
   },
   "outputs": [],
   "source": [
    "Token = 'pMnUqnCVOhzBBBgneXwexkNCSaxdafuL'\n",
    "location_id='CITY:US000001'\n",
    "city_name='Washington D.C., US'\n",
    "start_date='2021-06-01'\n",
    "end_date='2021-06-03'\n",
    "inToken=Token\n",
    "req_url = 'https://www.ncdc.noaa.gov/cdo-web/api/v2/data?datasetid=GHCND&datatypeid=TAVG&limit=1000&locationid='+location_id+ \\\n",
    "        '&startdate='+start_date+'&enddate='+end_date\n",
    "weather = re.get(req_url, headers={'token':inToken})\n",
    "#print(len(weather.text))\n",
    "#if len(weather.text)==2:  #2 character {}\n",
    "#    return None\n",
    "json_weather = json.loads(weather.text)\n",
    "df_weather = pd.DataFrame(json_weather['results'])\n",
    "df_weather['location_id']=location_id\n",
    "df_weather['city_name']=city_name\n",
    "df_weather['average_temp']=df_weather['value'] / 10\n"
   ]
  },
  {
   "cell_type": "code",
   "execution_count": null,
   "metadata": {
    "editable": true
   },
   "outputs": [],
   "source": [
    "df_weather.merge(df_prcp,  how='left', left_on=['station','date'], right_on = ['station','date'])"
   ]
  },
  {
   "cell_type": "code",
   "execution_count": 19,
   "metadata": {
    "editable": true
   },
   "outputs": [
    {
     "data": {
      "text/html": [
       "<div>\n",
       "<style scoped>\n",
       "    .dataframe tbody tr th:only-of-type {\n",
       "        vertical-align: middle;\n",
       "    }\n",
       "\n",
       "    .dataframe tbody tr th {\n",
       "        vertical-align: top;\n",
       "    }\n",
       "\n",
       "    .dataframe thead th {\n",
       "        text-align: right;\n",
       "    }\n",
       "</style>\n",
       "<table border=\"1\" class=\"dataframe\">\n",
       "  <thead>\n",
       "    <tr style=\"text-align: right;\">\n",
       "      <th></th>\n",
       "      <th>attributes</th>\n",
       "      <th>datatype</th>\n",
       "      <th>date</th>\n",
       "      <th>station</th>\n",
       "      <th>value</th>\n",
       "    </tr>\n",
       "  </thead>\n",
       "  <tbody>\n",
       "    <tr>\n",
       "      <th>0</th>\n",
       "      <td>,,D,2400</td>\n",
       "      <td>PRCP</td>\n",
       "      <td>2021-06-01T00:00:00</td>\n",
       "      <td>GHCND:USW00013743</td>\n",
       "      <td>0</td>\n",
       "    </tr>\n",
       "    <tr>\n",
       "      <th>1</th>\n",
       "      <td>,,D,2400</td>\n",
       "      <td>PRCP</td>\n",
       "      <td>2021-06-02T00:00:00</td>\n",
       "      <td>GHCND:USW00013743</td>\n",
       "      <td>0</td>\n",
       "    </tr>\n",
       "    <tr>\n",
       "      <th>2</th>\n",
       "      <td>,,D,2400</td>\n",
       "      <td>PRCP</td>\n",
       "      <td>2021-06-03T00:00:00</td>\n",
       "      <td>GHCND:USW00013743</td>\n",
       "      <td>25</td>\n",
       "    </tr>\n",
       "  </tbody>\n",
       "</table>\n",
       "</div>"
      ],
      "text/plain": [
       "  attributes datatype                 date            station  value\n",
       "0   ,,D,2400     PRCP  2021-06-01T00:00:00  GHCND:USW00013743      0\n",
       "1   ,,D,2400     PRCP  2021-06-02T00:00:00  GHCND:USW00013743      0\n",
       "2   ,,D,2400     PRCP  2021-06-03T00:00:00  GHCND:USW00013743     25"
      ]
     },
     "execution_count": 19,
     "metadata": {},
     "output_type": "execute_result"
    }
   ],
   "source": [
    "df_prcp.sort_values(by=['station','date'])"
   ]
  },
  {
   "cell_type": "code",
   "execution_count": null,
   "metadata": {
    "editable": true
   },
   "outputs": [],
   "source": [
    "#https://www.ncdc.noaa.gov/cdo-web/api/v2/datatypes?datacategoryid=TEMP&limit=56\n",
    "req_url = 'https://www.ncdc.noaa.gov/cdo-web/api/v2/datatypes?datacategoryid=PRCP&limit=56'\n",
    "print(req_url)\n",
    "weather = re.get(req_url, headers={'token':inToken})\n",
    "json_d = json.loads(weather.text)\n",
    "json_d"
   ]
  },
  {
   "cell_type": "code",
   "execution_count": 152,
   "metadata": {
    "editable": true
   },
   "outputs": [
    {
     "name": "stdout",
     "output_type": "stream",
     "text": [
      "GHCND:USW00013743\n",
      "GHCND:USW00093721\n",
      "GHCND:USW00093738\n"
     ]
    }
   ],
   "source": [
    "station_unique = df_weather['station'].unique() #apply to each row is better as big city has multiple read\n",
    "long_lats = [GetLongLat(inToken,i) for i in station_unique]\n",
    "df_stn_long_lat=pd.DataFrame({'station_id':station_unique,'long_lat':long_lats})\n",
    "df_stn_long_lat[['long', 'lat']] = pd.DataFrame(df_stn_long_lat['long_lat'].tolist(), index=df_stn_long_lat.index)\n",
    "df_stn_long_lat=df_stn_long_lat.drop(['long_lat'],axis=1)\n",
    "df_weather = df_weather.merge(df_stn_long_lat, left_on='station', right_on='station_id')"
   ]
  },
  {
   "cell_type": "code",
   "execution_count": null,
   "metadata": {
    "editable": true
   },
   "outputs": [],
   "source": [
    "#long,lat = GetLongLat(inToken,station_unique)\n",
    "df_weather = df_weather[['date','location_id','city_name','average_temp','station']]\n",
    "df_weather[['long','lat']]=df_weather.apply(lambda x: GetLongLat(inToken,x.station),axis=1)\n",
    "#df_weather['long']=long\n",
    "#df_weather['lat']=lat"
   ]
  },
  {
   "cell_type": "code",
   "execution_count": null,
   "metadata": {
    "editable": true
   },
   "outputs": [],
   "source": [
    "90.5, 93, 93.5"
   ]
  },
  {
   "cell_type": "code",
   "execution_count": 191,
   "metadata": {
    "editable": true
   },
   "outputs": [
    {
     "data": {
      "text/plain": [
       "3.679144385026738"
      ]
     },
     "execution_count": 191,
     "metadata": {},
     "output_type": "execute_result"
    }
   ],
   "source": [
    "325,339,441"
   ]
  },
  {
   "cell_type": "markdown",
   "metadata": {
    "editable": true
   },
   "source": [
    "#### Testing the full script"
   ]
  },
  {
   "cell_type": "code",
   "execution_count": 11,
   "metadata": {
    "editable": true
   },
   "outputs": [],
   "source": [
    "full_df.to_csv('data.csv')"
   ]
  },
  {
   "cell_type": "code",
   "execution_count": 13,
   "metadata": {
    "editable": true
   },
   "outputs": [
    {
     "name": "stdout",
     "output_type": "stream",
     "text": [
      "The autoreload extension is already loaded. To reload it, use:\n",
      "  %reload_ext autoreload\n"
     ]
    }
   ],
   "source": [
    "#testing the full method\n",
    "%load_ext autoreload\n",
    "%autoreload\n",
    "import NOAA_temperature_data as noaa"
   ]
  },
  {
   "cell_type": "code",
   "execution_count": 39,
   "metadata": {
    "editable": true
   },
   "outputs": [
    {
     "name": "stdout",
     "output_type": "stream",
     "text": [
      "empty string exit\n",
      "CITY:US000001 Washington D.C., US ['GHCND:USW00013743' 'GHCND:USW00093721' 'GHCND:USW00093738']\n",
      "2\n",
      "CITY:US010002 Anniston, AL US ['GHCND:USR0000ASHK']\n",
      "2\n",
      "CITY:US010004 Birmingham, AL US ['GHCND:USW00013876']\n",
      "5.087112903594971\n"
     ]
    }
   ],
   "source": [
    "\n",
    "full_data = noaa.acquire_temperature_data('2021-07-08','2021-07-10')"
   ]
  },
  {
   "cell_type": "code",
   "execution_count": 40,
   "metadata": {
    "editable": true
   },
   "outputs": [
    {
     "data": {
      "text/plain": [
       "0   2021-07-08\n",
       "1   2021-07-08\n",
       "2   2021-07-08\n",
       "0   2021-07-08\n",
       "0   2021-07-08\n",
       "Name: date, dtype: datetime64[ns]"
      ]
     },
     "execution_count": 40,
     "metadata": {},
     "output_type": "execute_result"
    }
   ],
   "source": [
    "#testing to get unique date\n",
    "ts = pd.to_datetime(full_data['date'], format='%Y-%m-%dT%H:%M:%S')#.dt.strftime('%Y-%m-%d')\n",
    "ts.unique()"
   ]
  },
  {
   "cell_type": "code",
   "execution_count": 23,
   "metadata": {
    "editable": true
   },
   "outputs": [],
   "source": [
    "#testing the script to save file as csv\n",
    "for i, x in full_data.groupby(ts):\n",
    "    outdir = '{}/{}/{}'.format(i.year,i.month,i.day)\n",
    "    if not os.path.exists(outdir):\n",
    "        os.makedirs(outdir, exist_ok=True)\n",
    "    x.to_csv(outdir+'/temperature_data.csv', index=False)"
   ]
  },
  {
   "cell_type": "code",
   "execution_count": null,
   "metadata": {
    "editable": true
   },
   "outputs": [],
   "source": []
  }
 ],
 "metadata": {
  "kernelspec": {
   "display_name": "Python 3",
   "language": "python",
   "name": "python3"
  },
  "language_info": {
   "codemirror_mode": {
    "name": "ipython",
    "version": 3
   },
   "file_extension": ".py",
   "mimetype": "text/x-python",
   "name": "python",
   "nbconvert_exporter": "python",
   "pygments_lexer": "ipython3",
   "version": "3.6.3"
  }
 },
 "nbformat": 4,
 "nbformat_minor": 4
}
