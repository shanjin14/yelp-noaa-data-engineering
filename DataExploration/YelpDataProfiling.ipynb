{
 "cells": [
  {
   "cell_type": "markdown",
   "metadata": {
    "editable": true
   },
   "source": [
    "#### Yelp dataset exploration\n",
    "Due to the data size is big and cannot fit into the memory, we would need to use Spark to explore the data."
   ]
  },
  {
   "cell_type": "code",
   "execution_count": 2,
   "metadata": {
    "editable": true
   },
   "outputs": [],
   "source": [
    "from pyspark.sql import SparkSession\n",
    "from pyspark.sql.functions import year, month, dayofmonth, hour, weekofyear, date_format,to_timestamp,col\n"
   ]
  },
  {
   "cell_type": "code",
   "execution_count": 3,
   "metadata": {
    "editable": true
   },
   "outputs": [],
   "source": [
    "spark = SparkSession \\\n",
    "    .builder \\\n",
    "    .appName(\"Spark Exploration\") \\\n",
    "    .getOrCreate()\n"
   ]
  },
  {
   "cell_type": "code",
   "execution_count": 3,
   "metadata": {
    "editable": true
   },
   "outputs": [],
   "source": [
    "yelp_data = spark.read.json(\"yelp_data/yelp_academic_dataset_business.json\")"
   ]
  },
  {
   "cell_type": "code",
   "execution_count": 4,
   "metadata": {
    "editable": true
   },
   "outputs": [
    {
     "name": "stdout",
     "output_type": "stream",
     "text": [
      "root\n",
      " |-- address: string (nullable = true)\n",
      " |-- attributes: struct (nullable = true)\n",
      " |    |-- AcceptsInsurance: string (nullable = true)\n",
      " |    |-- AgesAllowed: string (nullable = true)\n",
      " |    |-- Alcohol: string (nullable = true)\n",
      " |    |-- Ambience: string (nullable = true)\n",
      " |    |-- BYOB: string (nullable = true)\n",
      " |    |-- BYOBCorkage: string (nullable = true)\n",
      " |    |-- BestNights: string (nullable = true)\n",
      " |    |-- BikeParking: string (nullable = true)\n",
      " |    |-- BusinessAcceptsBitcoin: string (nullable = true)\n",
      " |    |-- BusinessAcceptsCreditCards: string (nullable = true)\n",
      " |    |-- BusinessParking: string (nullable = true)\n",
      " |    |-- ByAppointmentOnly: string (nullable = true)\n",
      " |    |-- Caters: string (nullable = true)\n",
      " |    |-- CoatCheck: string (nullable = true)\n",
      " |    |-- Corkage: string (nullable = true)\n",
      " |    |-- DietaryRestrictions: string (nullable = true)\n",
      " |    |-- DogsAllowed: string (nullable = true)\n",
      " |    |-- DriveThru: string (nullable = true)\n",
      " |    |-- GoodForDancing: string (nullable = true)\n",
      " |    |-- GoodForKids: string (nullable = true)\n",
      " |    |-- GoodForMeal: string (nullable = true)\n",
      " |    |-- HairSpecializesIn: string (nullable = true)\n",
      " |    |-- HappyHour: string (nullable = true)\n",
      " |    |-- HasTV: string (nullable = true)\n",
      " |    |-- Music: string (nullable = true)\n",
      " |    |-- NoiseLevel: string (nullable = true)\n",
      " |    |-- Open24Hours: string (nullable = true)\n",
      " |    |-- OutdoorSeating: string (nullable = true)\n",
      " |    |-- RestaurantsAttire: string (nullable = true)\n",
      " |    |-- RestaurantsCounterService: string (nullable = true)\n",
      " |    |-- RestaurantsDelivery: string (nullable = true)\n",
      " |    |-- RestaurantsGoodForGroups: string (nullable = true)\n",
      " |    |-- RestaurantsPriceRange2: string (nullable = true)\n",
      " |    |-- RestaurantsReservations: string (nullable = true)\n",
      " |    |-- RestaurantsTableService: string (nullable = true)\n",
      " |    |-- RestaurantsTakeOut: string (nullable = true)\n",
      " |    |-- Smoking: string (nullable = true)\n",
      " |    |-- WheelchairAccessible: string (nullable = true)\n",
      " |    |-- WiFi: string (nullable = true)\n",
      " |-- business_id: string (nullable = true)\n",
      " |-- categories: string (nullable = true)\n",
      " |-- city: string (nullable = true)\n",
      " |-- hours: struct (nullable = true)\n",
      " |    |-- Friday: string (nullable = true)\n",
      " |    |-- Monday: string (nullable = true)\n",
      " |    |-- Saturday: string (nullable = true)\n",
      " |    |-- Sunday: string (nullable = true)\n",
      " |    |-- Thursday: string (nullable = true)\n",
      " |    |-- Tuesday: string (nullable = true)\n",
      " |    |-- Wednesday: string (nullable = true)\n",
      " |-- is_open: long (nullable = true)\n",
      " |-- latitude: double (nullable = true)\n",
      " |-- longitude: double (nullable = true)\n",
      " |-- name: string (nullable = true)\n",
      " |-- postal_code: string (nullable = true)\n",
      " |-- review_count: long (nullable = true)\n",
      " |-- stars: double (nullable = true)\n",
      " |-- state: string (nullable = true)\n",
      "\n"
     ]
    }
   ],
   "source": [
    "#Huge data...\n",
    "yelp_data.printSchema()"
   ]
  },
  {
   "cell_type": "code",
   "execution_count": 29,
   "metadata": {
    "editable": true
   },
   "outputs": [
    {
     "name": "stdout",
     "output_type": "stream",
     "text": [
      "+------------+--------------------+--------------------+--------------------+-------+--------------------+-------+----------+------------+-------------------+-----------+------------+-----+-----+\n",
      "|     address|          attributes|         business_id|          categories|   city|               hours|is_open|  latitude|   longitude|               name|postal_code|review_count|stars|state|\n",
      "+------------+--------------------+--------------------+--------------------+-------+--------------------+-------+----------+------------+-------------------+-----------+------------+-----+-----+\n",
      "|921 Pearl St|[,, 'beer_and_win...|6iYb2HFDywm3zjuRg...|Gastropubs, Food,...|Boulder|[11:0-23:0, 11:0-...|      1|40.0175444|-105.2833481|Oskar Blues Taproom|      80302|          86|  4.0|   CO|\n",
      "+------------+--------------------+--------------------+--------------------+-------+--------------------+-------+----------+------------+-------------------+-----------+------------+-----+-----+\n",
      "only showing top 1 row\n",
      "\n"
     ]
    }
   ],
   "source": [
    "#show one record to see\n",
    "yelp_data.show(1)"
   ]
  },
  {
   "cell_type": "code",
   "execution_count": 15,
   "metadata": {
    "editable": true
   },
   "outputs": [],
   "source": [
    "yelp_data.createOrReplaceTempView(\"business\")"
   ]
  },
  {
   "cell_type": "code",
   "execution_count": 21,
   "metadata": {
    "editable": true
   },
   "outputs": [
    {
     "data": {
      "text/plain": [
       "[Row((CAST(count(1) AS DOUBLE) / CAST(160585 AS DOUBLE))=0.3162997789332752)]"
      ]
     },
     "execution_count": 21,
     "metadata": {},
     "output_type": "execute_result"
    }
   ],
   "source": [
    "#how many entries are restaurant related\n",
    "spark.sql(\"SELECT count(*) /160585 from business where lower(categories) like '%restaurant%'\").collect()"
   ]
  },
  {
   "cell_type": "code",
   "execution_count": 4,
   "metadata": {
    "editable": true
   },
   "outputs": [],
   "source": [
    "yelp_checkin = spark.read.json(\"yelp_data/yelp_academic_dataset_checkin.json\")"
   ]
  },
  {
   "cell_type": "code",
   "execution_count": 5,
   "metadata": {
    "editable": true
   },
   "outputs": [
    {
     "name": "stdout",
     "output_type": "stream",
     "text": [
      "root\n",
      " |-- business_id: string (nullable = true)\n",
      " |-- date: string (nullable = true)\n",
      "\n"
     ]
    }
   ],
   "source": [
    "yelp_checkin.printSchema()\n",
    "yelp_checkin.createOrReplaceTempView(\"checkin\")"
   ]
  },
  {
   "cell_type": "code",
   "execution_count": 10,
   "metadata": {
    "editable": true
   },
   "outputs": [
    {
     "name": "stdout",
     "output_type": "stream",
     "text": [
      "[Row(business_id='--0r8K_AQ4FZfLsX3ZYRDA', CAST(unix_timestamp(date, yyyy-MM-dd HH:mm:ss) AS TIMESTAMP)=datetime.datetime(2017, 9, 3, 17, 13, 59)), Row(business_id='--0zrn43LEaB4jUWTQH_Bg', CAST(unix_timestamp(date, yyyy-MM-dd HH:mm:ss) AS TIMESTAMP)=datetime.datetime(2010, 10, 8, 22, 21, 20)), Row(business_id='--0zrn43LEaB4jUWTQH_Bg', CAST(unix_timestamp(date, yyyy-MM-dd HH:mm:ss) AS TIMESTAMP)=datetime.datetime(2010, 11, 1, 21, 29, 14)), Row(business_id='--0zrn43LEaB4jUWTQH_Bg', CAST(unix_timestamp(date, yyyy-MM-dd HH:mm:ss) AS TIMESTAMP)=datetime.datetime(2010, 12, 23, 22, 55, 45)), Row(business_id='--0zrn43LEaB4jUWTQH_Bg', CAST(unix_timestamp(date, yyyy-MM-dd HH:mm:ss) AS TIMESTAMP)=datetime.datetime(2011, 4, 8, 17, 14, 59)), Row(business_id='--0zrn43LEaB4jUWTQH_Bg', CAST(unix_timestamp(date, yyyy-MM-dd HH:mm:ss) AS TIMESTAMP)=datetime.datetime(2011, 4, 11, 21, 28, 45)), Row(business_id='--0zrn43LEaB4jUWTQH_Bg', CAST(unix_timestamp(date, yyyy-MM-dd HH:mm:ss) AS TIMESTAMP)=datetime.datetime(2011, 4, 26, 16, 42, 25)), Row(business_id='--0zrn43LEaB4jUWTQH_Bg', CAST(unix_timestamp(date, yyyy-MM-dd HH:mm:ss) AS TIMESTAMP)=datetime.datetime(2011, 5, 20, 19, 30, 57)), Row(business_id='--0zrn43LEaB4jUWTQH_Bg', CAST(unix_timestamp(date, yyyy-MM-dd HH:mm:ss) AS TIMESTAMP)=datetime.datetime(2011, 5, 24, 20, 2, 21)), Row(business_id='--0zrn43LEaB4jUWTQH_Bg', CAST(unix_timestamp(date, yyyy-MM-dd HH:mm:ss) AS TIMESTAMP)=datetime.datetime(2011, 8, 29, 19, 1, 31))]\n"
     ]
    }
   ],
   "source": [
    "#Wonderful have data from 2010 to 2021~~~\n",
    "#use explode and split to put array into \n",
    "#yelp_checkin = spark.read.json(\"s3://dend-data-raw/yelp-data/yelp_academic_dataset_checkin.json\")\n",
    "#yelp_checkin.createOrReplaceTempView(\"checkin\")\n",
    "# You can print out the text to the console like so:\n",
    "out_checkin = spark.sql(\"select business_id,explode(split(date,',')) as date from checkin\")\n",
    "out_checkin.createOrReplaceTempView(\"checkin_exploded\")\n",
    "out_checkin2 = spark.sql(\"select business_id,CAST(UNIX_TIMESTAMP(date, 'yyyy-MM-dd HH:mm:ss') AS TIMESTAMP) from checkin_exploded limit 10\")\n",
    "print(out_checkin2.collect())"
   ]
  },
  {
   "cell_type": "code",
   "execution_count": 11,
   "metadata": {
    "editable": true
   },
   "outputs": [
    {
     "name": "stdout",
     "output_type": "stream",
     "text": [
      "root\n",
      " |-- business_id: string (nullable = true)\n",
      " |-- CAST(unix_timestamp(date, yyyy-MM-dd HH:mm:ss) AS TIMESTAMP): timestamp (nullable = true)\n",
      "\n"
     ]
    }
   ],
   "source": [
    "out_checkin2.printSchema()"
   ]
  },
  {
   "cell_type": "code",
   "execution_count": null,
   "metadata": {
    "editable": true
   },
   "outputs": [],
   "source": [
    "#Some template script to create py\n",
    "def main():\n",
    "\n",
    "    # Create our Spark Session via a SparkSession builder\n",
    "    spark = SparkSession.builder.appName(\"PySpark Example\").getOrCreate()\n",
    "\n",
    "    # Read in a file from S3 with the s3a file protocol\n",
    "    # (This is a block based overlay for high performance supporting up to 5TB)\n",
    "    yelp_checkin = spark.read.json(\"s3://dend-data-raw/yelp-data/yelp_academic_dataset_checkin.json\")\n",
    "    yelp_checkin.createOrReplaceTempView(\"checkin\")\n",
    "    # You can print out the text to the console like so:\n",
    "    out_checkin = spark.sql(\"select * from checkin limit 1\")\n",
    "    print(out_checkin.collect())\n",
    "    # The following code will format the loaded data into a CSV formatted file and save it back out to S3\n",
    "    out_checkin.write.format(\"com.databricks.spark.csv\").mode('overwrite').option(\"header\", \"true\").save(\n",
    "        path = \"s3://dend-data-staging/yelp-data/\")\n",
    "    \n",
    "    # Make sure to call stop() otherwise the cluster will keep running and cause problems for you\n",
    "    spark.stop()\n",
    "main()"
   ]
  },
  {
   "cell_type": "code",
   "execution_count": 23,
   "metadata": {
    "editable": true
   },
   "outputs": [],
   "source": [
    "yelp_user = spark.read.options(samplingRatio=1.0).json(\"yelp_data/yelp_academic_dataset_user.json\")"
   ]
  },
  {
   "cell_type": "code",
   "execution_count": 24,
   "metadata": {
    "editable": true
   },
   "outputs": [
    {
     "name": "stdout",
     "output_type": "stream",
     "text": [
      "root\n",
      " |-- average_stars: double (nullable = true)\n",
      " |-- compliment_cool: long (nullable = true)\n",
      " |-- compliment_cute: long (nullable = true)\n",
      " |-- compliment_funny: long (nullable = true)\n",
      " |-- compliment_hot: long (nullable = true)\n",
      " |-- compliment_list: long (nullable = true)\n",
      " |-- compliment_more: long (nullable = true)\n",
      " |-- compliment_note: long (nullable = true)\n",
      " |-- compliment_photos: long (nullable = true)\n",
      " |-- compliment_plain: long (nullable = true)\n",
      " |-- compliment_profile: long (nullable = true)\n",
      " |-- compliment_writer: long (nullable = true)\n",
      " |-- cool: long (nullable = true)\n",
      " |-- elite: string (nullable = true)\n",
      " |-- fans: long (nullable = true)\n",
      " |-- friends: string (nullable = true)\n",
      " |-- funny: long (nullable = true)\n",
      " |-- name: string (nullable = true)\n",
      " |-- review_count: long (nullable = true)\n",
      " |-- useful: long (nullable = true)\n",
      " |-- user_id: string (nullable = true)\n",
      " |-- yelping_since: string (nullable = true)\n",
      "\n"
     ]
    }
   ],
   "source": [
    "yelp_user.printSchema()\n",
    "yelp_user.createOrReplaceTempView(\"users\")"
   ]
  },
  {
   "cell_type": "code",
   "execution_count": null,
   "metadata": {
    "editable": true
   },
   "outputs": [],
   "source": [
    "spark.sql(\"select * from users\").take(1)"
   ]
  },
  {
   "cell_type": "code",
   "execution_count": 12,
   "metadata": {
    "editable": true
   },
   "outputs": [],
   "source": [
    "#enriched = spark.sql(\"select *,TO_DATE(CAST(UNIX_TIMESTAMP(yelping_since, 'yyyy-MM-dd') AS TIMESTAMP)) as yelping_since_date from users\")"
   ]
  },
  {
   "cell_type": "code",
   "execution_count": 26,
   "metadata": {
    "editable": true
   },
   "outputs": [],
   "source": [
    "#enriched.show()\n",
    "#enriched.createOrReplaceTempView(\"enriched_users\")"
   ]
  },
  {
   "cell_type": "code",
   "execution_count": 29,
   "metadata": {
    "editable": true
   },
   "outputs": [
    {
     "name": "stdout",
     "output_type": "stream",
     "text": [
      "root\n",
      " |-- _corrupt_record: string (nullable = true)\n",
      " |-- average_stars: double (nullable = true)\n",
      " |-- compliment_cool: long (nullable = true)\n",
      " |-- compliment_cute: long (nullable = true)\n",
      " |-- compliment_funny: long (nullable = true)\n",
      " |-- compliment_hot: long (nullable = true)\n",
      " |-- compliment_list: long (nullable = true)\n",
      " |-- compliment_more: long (nullable = true)\n",
      " |-- compliment_note: long (nullable = true)\n",
      " |-- compliment_photos: long (nullable = true)\n",
      " |-- compliment_plain: long (nullable = true)\n",
      " |-- compliment_profile: long (nullable = true)\n",
      " |-- compliment_writer: long (nullable = true)\n",
      " |-- cool: long (nullable = true)\n",
      " |-- elite: string (nullable = true)\n",
      " |-- fans: long (nullable = true)\n",
      " |-- funny: long (nullable = true)\n",
      " |-- name: string (nullable = true)\n",
      " |-- review_count: long (nullable = true)\n",
      " |-- useful: long (nullable = true)\n",
      " |-- user_id: string (nullable = true)\n",
      " |-- yelping_since: timestamp (nullable = true)\n",
      "\n"
     ]
    }
   ],
   "source": [
    "revised_users = spark.sql(\"select * from users\").drop('friends')\n",
    "revised_users = revised_users.withColumn(\"yelping_since\",to_timestamp(col(\"yelping_since\")))\n",
    "revised_users.printSchema()"
   ]
  },
  {
   "cell_type": "code",
   "execution_count": 34,
   "metadata": {
    "editable": true
   },
   "outputs": [],
   "source": [
    "revised_users.write.option(\"header\", \"true\").mode(\"overwrite\").parquet(\"yelp_data/output/stg_users_friends\") "
   ]
  },
  {
   "cell_type": "code",
   "execution_count": 35,
   "metadata": {
    "editable": true
   },
   "outputs": [],
   "source": [
    "pq_users = spark.read.parquet(\"yelp_data/output/stg_users_friends\")"
   ]
  },
  {
   "cell_type": "code",
   "execution_count": 36,
   "metadata": {
    "editable": true
   },
   "outputs": [
    {
     "name": "stdout",
     "output_type": "stream",
     "text": [
      "root\n",
      " |-- _corrupt_record: string (nullable = true)\n",
      " |-- average_stars: double (nullable = true)\n",
      " |-- compliment_cool: long (nullable = true)\n",
      " |-- compliment_cute: long (nullable = true)\n",
      " |-- compliment_funny: long (nullable = true)\n",
      " |-- compliment_hot: long (nullable = true)\n",
      " |-- compliment_list: long (nullable = true)\n",
      " |-- compliment_more: long (nullable = true)\n",
      " |-- compliment_note: long (nullable = true)\n",
      " |-- compliment_photos: long (nullable = true)\n",
      " |-- compliment_plain: long (nullable = true)\n",
      " |-- compliment_profile: long (nullable = true)\n",
      " |-- compliment_writer: long (nullable = true)\n",
      " |-- cool: long (nullable = true)\n",
      " |-- elite: string (nullable = true)\n",
      " |-- fans: long (nullable = true)\n",
      " |-- funny: long (nullable = true)\n",
      " |-- name: string (nullable = true)\n",
      " |-- review_count: long (nullable = true)\n",
      " |-- useful: long (nullable = true)\n",
      " |-- user_id: string (nullable = true)\n",
      " |-- yelping_since: timestamp (nullable = true)\n",
      "\n"
     ]
    }
   ],
   "source": [
    "pq_users.printSchema()"
   ]
  },
  {
   "cell_type": "code",
   "execution_count": null,
   "metadata": {
    "editable": true
   },
   "outputs": [],
   "source": [
    "spark.sql(\"select _corrupt_record,user_id from users where _corrupt_record is null\").show()"
   ]
  },
  {
   "cell_type": "code",
   "execution_count": 16,
   "metadata": {
    "editable": true
   },
   "outputs": [
    {
     "name": "stdout",
     "output_type": "stream",
     "text": [
      "+--------------------+--------------------+\n",
      "|             user_id|           friend_id|\n",
      "+--------------------+--------------------+\n",
      "|q_QQ5kBBwlCcbL1s4...|xBDpTUbai0DXrvxCe...|\n",
      "|q_QQ5kBBwlCcbL1s4...| 7GPNBO496aecrjJf...|\n",
      "|q_QQ5kBBwlCcbL1s4...| gUfHciSP7BbxZd5g...|\n",
      "|q_QQ5kBBwlCcbL1s4...| NXw0bCLF5ZtFMfhc...|\n",
      "|q_QQ5kBBwlCcbL1s4...| OGjmMxPuIoLTJ3O-...|\n",
      "|q_QQ5kBBwlCcbL1s4...| mwUcJP11UkIjCB8j...|\n",
      "|q_QQ5kBBwlCcbL1s4...| fDmgb3Vi3-f_MtFO...|\n",
      "|q_QQ5kBBwlCcbL1s4...| -x1516ZG5GllZiBj...|\n",
      "|q_QQ5kBBwlCcbL1s4...| tx5UcfGrsud-CQdq...|\n",
      "|q_QQ5kBBwlCcbL1s4...| HKooPGsHiZV_0vTn...|\n",
      "|q_QQ5kBBwlCcbL1s4...| 2iSBJHVMNsolJ3AH...|\n",
      "|q_QQ5kBBwlCcbL1s4...| NcoP47QP_eMVtoZv...|\n",
      "|q_QQ5kBBwlCcbL1s4...| XPOx-mCubVGQ1rRk...|\n",
      "|q_QQ5kBBwlCcbL1s4...| K6Tbv3a_qUQK0ed4...|\n",
      "|q_QQ5kBBwlCcbL1s4...| _dUWTJf0faMXMdr_...|\n",
      "|q_QQ5kBBwlCcbL1s4...| 5ni2bacPC7scIAHA...|\n",
      "|q_QQ5kBBwlCcbL1s4...| cG-UHRz9QdhBEBz3...|\n",
      "|q_QQ5kBBwlCcbL1s4...| BPh-OMqPul6HXsnC...|\n",
      "|q_QQ5kBBwlCcbL1s4...| mgzNtI5XOuPwwukp...|\n",
      "|q_QQ5kBBwlCcbL1s4...| pMbWlP0cAvtRSFMI...|\n",
      "+--------------------+--------------------+\n",
      "only showing top 20 rows\n",
      "\n"
     ]
    }
   ],
   "source": [
    "spark.sql(\"select user_id,explode(split(friends,',')) as friend_id from users\").show()"
   ]
  },
  {
   "cell_type": "code",
   "execution_count": null,
   "metadata": {
    "editable": true
   },
   "outputs": [],
   "source": [
    "spark.sql(\"select * from users limit 1\").collect()"
   ]
  },
  {
   "cell_type": "code",
   "execution_count": null,
   "metadata": {
    "editable": true
   },
   "outputs": [],
   "source": [
    "spark.sql(\"select average_stars,count(*) from users group by average_stars\").collect()"
   ]
  },
  {
   "cell_type": "code",
   "execution_count": 21,
   "metadata": {
    "editable": true
   },
   "outputs": [],
   "source": [
    "def process_yelp_users(spark,input_data=\"\",output_data =\"yelp_data/output/\"):\n",
    "    \"\"\"\n",
    "    arg:  spark, inputdata,outputdata\n",
    "    \"\"\"\n",
    "    #print(spark,input_data,output_data)\n",
    "    yelp_checkin = spark.read.json(input_data+\"yelp_data/yelp_academic_dataset_user.json\")\n",
    "    yelp_checkin.createOrReplaceTempView(\"users\")\n",
    "    yelp_users_ex_friends=spark.sql(\"select * from users\").drop('friends')\n",
    "    yelp_users_ex_friends = yelp_users_ex_friends.withColumn(\"yelping_since\",to_timestamp(col(\"yelping_since\"))) #convert varchar to timestamp\n",
    "    #yelp_users_ex_friends=yelp_users_ex_friends.na.fill({'_corrupt_record': 'no_err'})\n",
    "    yelp_users_friends = spark.sql(\"select user_id,explode(split(friends,',')) as friend_id from users\")\n",
    "    yelp_users_ex_friends.write.option(\"header\", \"true\").mode(\"overwrite\").parquet(output_data+\"stg_users\") \n",
    "    yelp_users_friends.write.option(\"header\", \"true\").mode(\"overwrite\").parquet(output_data+\"stg_users_friends\") "
   ]
  },
  {
   "cell_type": "code",
   "execution_count": 22,
   "metadata": {
    "editable": true
   },
   "outputs": [],
   "source": [
    "process_yelp_users(spark)"
   ]
  },
  {
   "cell_type": "code",
   "execution_count": 25,
   "metadata": {
    "editable": true
   },
   "outputs": [
    {
     "name": "stdout",
     "output_type": "stream",
     "text": [
      "root\n",
      " |-- average_stars: double (nullable = true)\n",
      " |-- compliment_cool: long (nullable = true)\n",
      " |-- compliment_cute: long (nullable = true)\n",
      " |-- compliment_funny: long (nullable = true)\n",
      " |-- compliment_hot: long (nullable = true)\n",
      " |-- compliment_list: long (nullable = true)\n",
      " |-- compliment_more: long (nullable = true)\n",
      " |-- compliment_note: long (nullable = true)\n",
      " |-- compliment_photos: long (nullable = true)\n",
      " |-- compliment_plain: long (nullable = true)\n",
      " |-- compliment_profile: long (nullable = true)\n",
      " |-- compliment_writer: long (nullable = true)\n",
      " |-- cool: long (nullable = true)\n",
      " |-- elite: string (nullable = true)\n",
      " |-- fans: long (nullable = true)\n",
      " |-- funny: long (nullable = true)\n",
      " |-- name: string (nullable = true)\n",
      " |-- review_count: long (nullable = true)\n",
      " |-- useful: long (nullable = true)\n",
      " |-- user_id: string (nullable = true)\n",
      " |-- yelping_since: timestamp (nullable = true)\n",
      "\n"
     ]
    }
   ],
   "source": [
    "parquetFile = spark.read.parquet(\"yelp_data/output/stg_users\")\n",
    "\n",
    "# Parquet files can also be used to create a temporary view and then used in SQL statements.\n",
    "parquetFile.createOrReplaceTempView(\"parquetFile\")\n",
    "parquetFile.printSchema()\n",
    "#spark.sql(\"SELECT * from\").show()"
   ]
  },
  {
   "cell_type": "code",
   "execution_count": 28,
   "metadata": {
    "editable": true
   },
   "outputs": [
    {
     "data": {
      "text/plain": [
       "[Row(average_stars=1.6, compliment_cool=0, compliment_cute=0, compliment_funny=0, compliment_hot=0, compliment_list=0, compliment_more=0, compliment_note=0, compliment_photos=0, compliment_plain=0, compliment_profile=0, compliment_writer=0, cool=0, elite='', fans=0, funny=1, name='John', review_count=15, useful=18, user_id='gRg1b1jMhyvATvTKqRK1bg', yelping_since=datetime.datetime(2011, 11, 1, 23, 15, 1)),\n",
       " Row(average_stars=1.0, compliment_cool=0, compliment_cute=0, compliment_funny=0, compliment_hot=0, compliment_list=0, compliment_more=0, compliment_note=0, compliment_photos=0, compliment_plain=0, compliment_profile=0, compliment_writer=0, cool=0, elite='', fans=0, funny=0, name='Barbie', review_count=2, useful=4, user_id='lssADo3u2Icm84siwkWzkw', yelping_since=datetime.datetime(2011, 2, 28, 2, 54, 11)),\n",
       " Row(average_stars=2.0, compliment_cool=0, compliment_cute=0, compliment_funny=0, compliment_hot=0, compliment_list=0, compliment_more=1, compliment_note=0, compliment_photos=0, compliment_plain=0, compliment_profile=0, compliment_writer=0, cool=1, elite='', fans=1, funny=1, name='J.', review_count=5, useful=13, user_id='oFsyuzN52dVAwTIQqbi8NA', yelping_since=datetime.datetime(2009, 2, 24, 1, 28, 5)),\n",
       " Row(average_stars=3.55, compliment_cool=0, compliment_cute=0, compliment_funny=0, compliment_hot=2, compliment_list=0, compliment_more=0, compliment_note=6, compliment_photos=0, compliment_plain=0, compliment_profile=0, compliment_writer=0, cool=18, elite='', fans=2, funny=10, name='Amanda', review_count=80, useful=49, user_id='tH3wjOiSuZqWs4oxTqy4ag', yelping_since=datetime.datetime(2014, 10, 3, 22, 2, 51)),\n",
       " Row(average_stars=4.26, compliment_cool=3, compliment_cute=0, compliment_funny=3, compliment_hot=0, compliment_list=0, compliment_more=0, compliment_note=1, compliment_photos=0, compliment_plain=0, compliment_profile=0, compliment_writer=2, cool=28, elite='2017,2018', fans=3, funny=26, name='Zachary', review_count=148, useful=99, user_id='rozGL4hLXo4TWAW_sWu8Nw', yelping_since=datetime.datetime(2012, 10, 2, 13, 19, 49)),\n",
       " Row(average_stars=3.6, compliment_cool=0, compliment_cute=0, compliment_funny=0, compliment_hot=0, compliment_list=0, compliment_more=0, compliment_note=0, compliment_photos=0, compliment_plain=0, compliment_profile=0, compliment_writer=0, cool=3, elite='', fans=0, funny=3, name='Kimberlie', review_count=19, useful=17, user_id='YBlxJ5HCgRMwWO480Uz-wg', yelping_since=datetime.datetime(2011, 4, 18, 11, 0, 31)),\n",
       " Row(average_stars=3.91, compliment_cool=0, compliment_cute=0, compliment_funny=0, compliment_hot=0, compliment_list=0, compliment_more=0, compliment_note=3, compliment_photos=0, compliment_plain=1, compliment_profile=1, compliment_writer=0, cool=40, elite='2018,2019,20,20', fans=4, funny=30, name='Miguel', review_count=139, useful=100, user_id='tfXK_tqrD6kJ9OgPs_GLOg', yelping_since=datetime.datetime(2013, 4, 20, 5, 34, 17)),\n",
       " Row(average_stars=3.42, compliment_cool=0, compliment_cute=0, compliment_funny=0, compliment_hot=0, compliment_list=0, compliment_more=0, compliment_note=0, compliment_photos=0, compliment_plain=0, compliment_profile=0, compliment_writer=0, cool=1, elite='', fans=1, funny=0, name='Alisa', review_count=12, useful=4, user_id='mJzWlZfg014Xu-Qq3oMSnA', yelping_since=datetime.datetime(2014, 4, 1, 21, 58, 58)),\n",
       " Row(average_stars=2.93, compliment_cool=0, compliment_cute=0, compliment_funny=0, compliment_hot=0, compliment_list=0, compliment_more=0, compliment_note=1, compliment_photos=0, compliment_plain=0, compliment_profile=0, compliment_writer=0, cool=2, elite='', fans=0, funny=23, name='Cris', review_count=14, useful=18, user_id='sYm1Vss0ogB6wFEeyh1JJA', yelping_since=datetime.datetime(2011, 6, 29, 18, 38, 7)),\n",
       " Row(average_stars=3.97, compliment_cool=0, compliment_cute=0, compliment_funny=0, compliment_hot=0, compliment_list=0, compliment_more=0, compliment_note=1, compliment_photos=0, compliment_plain=1, compliment_profile=0, compliment_writer=0, cool=8, elite='2018,2019', fans=1, funny=5, name='Beth', review_count=115, useful=72, user_id='ZclUWq7vWiJg0ItU-kmW1A', yelping_since=datetime.datetime(2014, 7, 29, 0, 5, 13))]"
      ]
     },
     "execution_count": 28,
     "metadata": {},
     "output_type": "execute_result"
    }
   ],
   "source": [
    "spark.sql(\"SELECT * from parquetFile limit 10\").collect()"
   ]
  },
  {
   "cell_type": "code",
   "execution_count": 3,
   "metadata": {
    "editable": true
   },
   "outputs": [
    {
     "name": "stdout",
     "output_type": "stream",
     "text": [
      "root\n",
      " |-- _corrupt_record: string (nullable = true)\n",
      " |-- business_id: string (nullable = true)\n",
      " |-- cool: long (nullable = true)\n",
      " |-- date: string (nullable = true)\n",
      " |-- funny: long (nullable = true)\n",
      " |-- review_id: string (nullable = true)\n",
      " |-- stars: double (nullable = true)\n",
      " |-- text: string (nullable = true)\n",
      " |-- useful: long (nullable = true)\n",
      " |-- user_id: string (nullable = true)\n",
      "\n"
     ]
    }
   ],
   "source": [
    "yelp_reviews = spark.read.json(\"yelp_data/yelp_academic_dataset_review.json\")\n",
    "yelp_reviews.printSchema()\n",
    "yelp_reviews.createOrReplaceTempView(\"reviews\")"
   ]
  },
  {
   "cell_type": "code",
   "execution_count": null,
   "metadata": {
    "editable": true
   },
   "outputs": [],
   "source": [
    "spark.sql(\"select * from reviews limit 1\").collect()"
   ]
  }
 ],
 "metadata": {
  "kernelspec": {
   "display_name": "Python 3",
   "language": "python",
   "name": "python3"
  },
  "language_info": {
   "codemirror_mode": {
    "name": "ipython",
    "version": 3
   },
   "file_extension": ".py",
   "mimetype": "text/x-python",
   "name": "python",
   "nbconvert_exporter": "python",
   "pygments_lexer": "ipython3",
   "version": "3.6.3"
  }
 },
 "nbformat": 4,
 "nbformat_minor": 4
}
